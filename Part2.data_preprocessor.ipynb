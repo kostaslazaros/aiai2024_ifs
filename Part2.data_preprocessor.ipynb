{
 "cells": [
  {
   "cell_type": "code",
   "execution_count": 1,
   "id": "d8552867",
   "metadata": {},
   "outputs": [],
   "source": [
    "import adata_preprocessor as ap\n",
    "import hdf5plugin\n",
    "import os"
   ]
  },
  {
   "cell_type": "code",
   "execution_count": 2,
   "id": "97c0053a",
   "metadata": {},
   "outputs": [
    {
     "name": "stdout",
     "output_type": "stream",
     "text": [
      "Processing file: ./data/2_sanitized_h5ads/luad_gse131907.h5ad\n",
      "Data shape before preprocessing: (203310, 25437)\n",
      "Filtering cells with number of genes < 100: (203310, 25437)\n",
      "Filtering genes expressed in < 3 cells: (203310, 25437)\n",
      "Mitochondrial gene percentage calculated and annotated in the prc_mt observation\n",
      "Ribosomal gene percentage calculated and annotated in the prc_rb observation\n",
      "Calculate number of genes with non-zero counts\n",
      "Calculate total number of counts for each cell\n",
      "Filter cells with too few genes detected: (122636, 25437)\n",
      "Filter cells with too many genes detected: (122636, 25437)\n",
      "Filter cells with too many counts detected: (122636, 25437)\n",
      "Filter cells with too many mitochondrial genes expressed: (122636, 25437)\n",
      "Filter cells with too many ribosomal genes expressed: (122636, 25437)\n",
      "Saving file to path\n",
      "Processing file: ./data/2_sanitized_h5ads/luad_gse97168.h5ad\n",
      "Data shape before preprocessing: (1275, 10523)\n",
      "Filtering cells with number of genes < 100: (1275, 10523)\n",
      "Filtering genes expressed in < 3 cells: (1275, 10523)\n",
      "Mitochondrial gene percentage calculated and annotated in the prc_mt observation\n",
      "Ribosomal gene percentage calculated and annotated in the prc_rb observation\n",
      "Calculate number of genes with non-zero counts\n",
      "Calculate total number of counts for each cell\n",
      "Filter cells with too few genes detected: (244, 10523)\n",
      "Filter cells with too many genes detected: (244, 10523)\n",
      "Filter cells with too many counts detected: (244, 10523)\n",
      "Filter cells with too many mitochondrial genes expressed: (244, 10523)\n",
      "Filter cells with too many ribosomal genes expressed: (244, 10523)\n",
      "Saving file to path\n",
      "Processing file: ./data/2_sanitized_h5ads/luad_gse123902.h5ad\n",
      "Data shape before preprocessing: (31608, 19544)\n",
      "Filtering cells with number of genes < 100: (31608, 19544)\n",
      "Filtering genes expressed in < 3 cells: (31608, 19544)\n",
      "Mitochondrial gene percentage calculated and annotated in the prc_mt observation\n",
      "Ribosomal gene percentage calculated and annotated in the prc_rb observation\n",
      "Calculate number of genes with non-zero counts\n",
      "Calculate total number of counts for each cell\n",
      "Filter cells with too few genes detected: (23219, 19544)\n",
      "Filter cells with too many genes detected: (23219, 19544)\n",
      "Filter cells with too many counts detected: (23219, 19544)\n",
      "Filter cells with too many mitochondrial genes expressed: (23219, 19544)\n",
      "Filter cells with too many ribosomal genes expressed: (23219, 19544)\n",
      "Saving file to path\n",
      "Processing file: ./data/2_sanitized_h5ads/nsclc_gse99254.h5ad\n",
      "Data shape before preprocessing: (12345, 21063)\n",
      "Filtering cells with number of genes < 100: (12345, 21063)\n",
      "Filtering genes expressed in < 3 cells: (12345, 21063)\n",
      "Mitochondrial gene percentage calculated and annotated in the prc_mt observation\n",
      "Ribosomal gene percentage calculated and annotated in the prc_rb observation\n",
      "Calculate number of genes with non-zero counts\n",
      "Calculate total number of counts for each cell\n",
      "Filter cells with too few genes detected: (12327, 21063)\n",
      "Filter cells with too many genes detected: (12323, 21063)\n",
      "Filter cells with too many counts detected: (12323, 21063)\n",
      "Filter cells with too many mitochondrial genes expressed: (12323, 21063)\n",
      "Filter cells with too many ribosomal genes expressed: (12323, 21063)\n",
      "Saving file to path\n"
     ]
    }
   ],
   "source": [
    "# List all files in the specified directory\n",
    "directory = \"./data/2_sanitized_h5ads\"\n",
    "for file in os.listdir(directory):\n",
    "    if file.endswith(\".h5ad\"):\n",
    "        # Construct the full file path\n",
    "        file_path = os.path.join(directory, file)\n",
    "        # Print the file name\n",
    "        print(f\"Processing file: {file_path}\")\n",
    "        adata_filtered = ap.adata_preprocessor(file_path, n_genes_min=1000, n_genes_max=10000)\n",
    "        print(\"Saving file to path\")\n",
    "        adata_filtered.write_h5ad(\n",
    "            f\"./data/3_filtered_h5ads/filtered_{file}\",\n",
    "            compression=hdf5plugin.FILTERS[\"zstd\"]\n",
    ")"
   ]
  },
  {
   "cell_type": "code",
   "execution_count": null,
   "id": "a6a47b02",
   "metadata": {},
   "outputs": [],
   "source": []
  }
 ],
 "metadata": {
  "kernelspec": {
   "display_name": "Python 3 (ipykernel)",
   "language": "python",
   "name": "python3"
  },
  "language_info": {
   "codemirror_mode": {
    "name": "ipython",
    "version": 3
   },
   "file_extension": ".py",
   "mimetype": "text/x-python",
   "name": "python",
   "nbconvert_exporter": "python",
   "pygments_lexer": "ipython3",
   "version": "3.9.17"
  }
 },
 "nbformat": 4,
 "nbformat_minor": 5
}
