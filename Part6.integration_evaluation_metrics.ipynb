{
 "cells": [
  {
   "cell_type": "code",
   "execution_count": 1,
   "id": "9a149600",
   "metadata": {},
   "outputs": [],
   "source": [
    "import scanpy as sc\n",
    "import hdf5plugin\n",
    "from scalex.metrics import batch_entropy_mixing_score\n",
    "from scalex.metrics import silhouette_score\n",
    "import pandas as pd\n",
    "import scib"
   ]
  },
  {
   "cell_type": "code",
   "execution_count": 2,
   "id": "3ad7e41d",
   "metadata": {},
   "outputs": [
    {
     "name": "stderr",
     "output_type": "stream",
     "text": [
      "/home/kostas/miniconda3/envs/scrna/lib/python3.9/site-packages/rpy2/robjects/pandas2ri.py:368: DeprecationWarning: The global conversion available with activate() is deprecated and will be removed in the next major release. Use a local converter.\n",
      "  warnings.warn('The global conversion available with activate() '\n",
      "/home/kostas/miniconda3/envs/scrna/lib/python3.9/site-packages/rpy2/robjects/numpy2ri.py:241: DeprecationWarning: The global conversion available with activate() is deprecated and will be removed in the next major release. Use a local converter.\n",
      "  warnings.warn('The global conversion available with activate() '\n"
     ]
    }
   ],
   "source": [
    "from rpy2.robjects import pandas2ri\n",
    "pandas2ri.activate()"
   ]
  },
  {
   "cell_type": "markdown",
   "id": "668fe9a0",
   "metadata": {},
   "source": [
    "### Concatenated dataset"
   ]
  },
  {
   "cell_type": "code",
   "execution_count": null,
   "id": "207f3808",
   "metadata": {},
   "outputs": [],
   "source": [
    "# H5AD = \"./data/4_concatenated_h5ad/lung_cancer_concat_data_v3.h5ad\""
   ]
  },
  {
   "cell_type": "markdown",
   "id": "5989fd70",
   "metadata": {},
   "source": [
    "### SCANORAMA integrated datasets"
   ]
  },
  {
   "cell_type": "code",
   "execution_count": null,
   "id": "8383837a",
   "metadata": {},
   "outputs": [],
   "source": [
    "# H5AD_INTEGRATED = \"./data/6_integrated_h5ads/scanorama/lung_cancer_scanorama_all_genes.h5ad\"\n",
    "\n",
    "# H5AD_INTEGRATED = \"./data/6_integrated_h5ads/scanorama/lung_cancer_scanorama_3000_hvgs.h5ad\"\n",
    "\n",
    "# H5AD_INTEGRATED = \"./data/6_integrated_h5ads/scanorama/lung_cancer_scanorama_top_500_mlc_genes.h5ad\"\n",
    "\n",
    "# H5AD_INTEGRATED = \"./data/6_integrated_h5ads/scanorama/lung_cancer_scanorama_top_300_mlc_genes.h5ad\""
   ]
  },
  {
   "cell_type": "markdown",
   "id": "7857db7b",
   "metadata": {},
   "source": [
    "### HARMONY integrated datasets"
   ]
  },
  {
   "cell_type": "code",
   "execution_count": 3,
   "id": "6251f625",
   "metadata": {},
   "outputs": [],
   "source": [
    "# H5AD_INTEGRATED = \"./data/6_integrated_h5ads/lung_cancer_harmony_all_genes.h5ad\"\n",
    "\n",
    "# H5AD_INTEGRATED = \"./data/6_integrated_h5ads/lung_cancer_harmony_3000_hvgs.h5ad\"\n",
    "\n",
    "H5AD_INTEGRATED = \"./data/6_integrated_h5ads/lung_cancer_harmony_top_500_mlc_genes.h5ad\"\n",
    "\n",
    "# H5AD_INTEGRATED = \"./data/6_integrated_h5ads/lung_cancer_harmony_top_300_mlc_genes.h5ad\""
   ]
  },
  {
   "cell_type": "code",
   "execution_count": null,
   "id": "73e3c599",
   "metadata": {},
   "outputs": [],
   "source": [
    "adata_concat = sc.read_h5ad(H5AD)\n",
    "sc.tl.pca(adata_concat)\n",
    "adata_concat"
   ]
  },
  {
   "cell_type": "code",
   "execution_count": null,
   "id": "fd937663",
   "metadata": {},
   "outputs": [],
   "source": [
    "# adata_scanorama_full = sc.read_h5ad(H5AD_INTEGRATED)\n",
    "# adata_scanorama_full"
   ]
  },
  {
   "cell_type": "code",
   "execution_count": 4,
   "id": "ca6ee234",
   "metadata": {},
   "outputs": [
    {
     "data": {
      "text/plain": [
       "AnnData object with n_obs × n_vars = 45228 × 500\n",
       "    obs: 'tissue', 'cell_type', 'batch'\n",
       "    var: 'mean', 'std'\n",
       "    uns: 'batch_colors', 'cell_type_colors', 'log1p', 'neighbors', 'pca', 'tissue_colors', 'umap'\n",
       "    obsm: 'X_pca', 'X_pca_harmony', 'X_umap'\n",
       "    varm: 'PCs'\n",
       "    obsp: 'connectivities', 'distances'"
      ]
     },
     "execution_count": 4,
     "metadata": {},
     "output_type": "execute_result"
    }
   ],
   "source": [
    "adata_harmony_full = sc.read_h5ad(H5AD_INTEGRATED)\n",
    "adata_harmony_full"
   ]
  },
  {
   "cell_type": "markdown",
   "id": "091fce05",
   "metadata": {},
   "source": [
    "### kBET for concat data"
   ]
  },
  {
   "cell_type": "code",
   "execution_count": null,
   "id": "f4b11aa6",
   "metadata": {},
   "outputs": [],
   "source": [
    "scib.me.kBET(adata_concat, batch_key=\"batch\", label_key=\"cell_type\", type_=\"full\", embed=\"X_pca\")"
   ]
  },
  {
   "cell_type": "markdown",
   "id": "198b929f",
   "metadata": {},
   "source": [
    "### kBET for Scanorama data"
   ]
  },
  {
   "cell_type": "code",
   "execution_count": null,
   "id": "eef9cbea",
   "metadata": {},
   "outputs": [],
   "source": [
    "scib.me.kBET(adata_scanorama_full, batch_key=\"batch\", label_key=\"cell_type\", type_=\"embed\", embed=\"Scanorama\")"
   ]
  },
  {
   "cell_type": "markdown",
   "id": "b942b085",
   "metadata": {},
   "source": [
    "### kBET for Harmony data"
   ]
  },
  {
   "cell_type": "code",
   "execution_count": 5,
   "id": "3a4e66aa",
   "metadata": {},
   "outputs": [
    {
     "name": "stderr",
     "output_type": "stream",
     "text": [
      "/home/kostas/miniconda3/envs/scrna/lib/python3.9/site-packages/umap/distances.py:1063: NumbaDeprecationWarning: \u001b[1mThe 'nopython' keyword argument was not supplied to the 'numba.jit' decorator. The implicit default value for this argument is currently False, but it will be changed to True in Numba 0.59.0. See https://numba.readthedocs.io/en/stable/reference/deprecation.html#deprecation-of-object-mode-fall-back-behaviour-when-using-jit for details.\u001b[0m\n",
      "  @numba.jit()\n",
      "/home/kostas/miniconda3/envs/scrna/lib/python3.9/site-packages/umap/distances.py:1071: NumbaDeprecationWarning: \u001b[1mThe 'nopython' keyword argument was not supplied to the 'numba.jit' decorator. The implicit default value for this argument is currently False, but it will be changed to True in Numba 0.59.0. See https://numba.readthedocs.io/en/stable/reference/deprecation.html#deprecation-of-object-mode-fall-back-behaviour-when-using-jit for details.\u001b[0m\n",
      "  @numba.jit()\n",
      "/home/kostas/miniconda3/envs/scrna/lib/python3.9/site-packages/umap/distances.py:1086: NumbaDeprecationWarning: \u001b[1mThe 'nopython' keyword argument was not supplied to the 'numba.jit' decorator. The implicit default value for this argument is currently False, but it will be changed to True in Numba 0.59.0. See https://numba.readthedocs.io/en/stable/reference/deprecation.html#deprecation-of-object-mode-fall-back-behaviour-when-using-jit for details.\u001b[0m\n",
      "  @numba.jit()\n",
      "/home/kostas/miniconda3/envs/scrna/lib/python3.9/site-packages/umap/umap_.py:660: NumbaDeprecationWarning: \u001b[1mThe 'nopython' keyword argument was not supplied to the 'numba.jit' decorator. The implicit default value for this argument is currently False, but it will be changed to True in Numba 0.59.0. See https://numba.readthedocs.io/en/stable/reference/deprecation.html#deprecation-of-object-mode-fall-back-behaviour-when-using-jit for details.\u001b[0m\n",
      "  @numba.jit()\n"
     ]
    },
    {
     "name": "stdout",
     "output_type": "stream",
     "text": [
      "Adding diffusion to step 4\n"
     ]
    },
    {
     "name": "stderr",
     "output_type": "stream",
     "text": [
      "/home/kostas/miniconda3/envs/scrna/lib/python3.9/site-packages/rpy2/robjects/pandas2ri.py:368: DeprecationWarning: The global conversion available with activate() is deprecated and will be removed in the next major release. Use a local converter.\n",
      "  warnings.warn('The global conversion available with activate() '\n"
     ]
    },
    {
     "name": "stdout",
     "output_type": "stream",
     "text": [
      "Adding diffusion to step 4\n",
      "Adding diffusion to step 5\n"
     ]
    },
    {
     "name": "stderr",
     "output_type": "stream",
     "text": [
      "/home/kostas/miniconda3/envs/scrna/lib/python3.9/site-packages/rpy2/robjects/pandas2ri.py:368: DeprecationWarning: The global conversion available with activate() is deprecated and will be removed in the next major release. Use a local converter.\n",
      "  warnings.warn('The global conversion available with activate() '\n",
      "/home/kostas/miniconda3/envs/scrna/lib/python3.9/site-packages/rpy2/robjects/numpy2ri.py:241: DeprecationWarning: The global conversion available with activate() is deprecated and will be removed in the next major release. Use a local converter.\n",
      "  warnings.warn('The global conversion available with activate() '\n"
     ]
    },
    {
     "name": "stdout",
     "output_type": "stream",
     "text": [
      "Adding diffusion to step 4\n",
      "Adding diffusion to step 5\n"
     ]
    },
    {
     "name": "stderr",
     "output_type": "stream",
     "text": [
      "/home/kostas/miniconda3/envs/scrna/lib/python3.9/site-packages/rpy2/robjects/pandas2ri.py:368: DeprecationWarning: The global conversion available with activate() is deprecated and will be removed in the next major release. Use a local converter.\n",
      "  warnings.warn('The global conversion available with activate() '\n",
      "/home/kostas/miniconda3/envs/scrna/lib/python3.9/site-packages/rpy2/robjects/numpy2ri.py:241: DeprecationWarning: The global conversion available with activate() is deprecated and will be removed in the next major release. Use a local converter.\n",
      "  warnings.warn('The global conversion available with activate() '\n"
     ]
    },
    {
     "name": "stdout",
     "output_type": "stream",
     "text": [
      "Adding diffusion to step 4\n"
     ]
    },
    {
     "name": "stderr",
     "output_type": "stream",
     "text": [
      "/home/kostas/miniconda3/envs/scrna/lib/python3.9/site-packages/rpy2/robjects/pandas2ri.py:368: DeprecationWarning: The global conversion available with activate() is deprecated and will be removed in the next major release. Use a local converter.\n",
      "  warnings.warn('The global conversion available with activate() '\n",
      "/home/kostas/miniconda3/envs/scrna/lib/python3.9/site-packages/rpy2/robjects/numpy2ri.py:241: DeprecationWarning: The global conversion available with activate() is deprecated and will be removed in the next major release. Use a local converter.\n",
      "  warnings.warn('The global conversion available with activate() '\n"
     ]
    },
    {
     "name": "stdout",
     "output_type": "stream",
     "text": [
      "Adding diffusion to step 4\n"
     ]
    },
    {
     "name": "stderr",
     "output_type": "stream",
     "text": [
      "/home/kostas/miniconda3/envs/scrna/lib/python3.9/site-packages/rpy2/robjects/pandas2ri.py:368: DeprecationWarning: The global conversion available with activate() is deprecated and will be removed in the next major release. Use a local converter.\n",
      "  warnings.warn('The global conversion available with activate() '\n",
      "/home/kostas/miniconda3/envs/scrna/lib/python3.9/site-packages/rpy2/robjects/numpy2ri.py:241: DeprecationWarning: The global conversion available with activate() is deprecated and will be removed in the next major release. Use a local converter.\n",
      "  warnings.warn('The global conversion available with activate() '\n"
     ]
    },
    {
     "name": "stdout",
     "output_type": "stream",
     "text": [
      "Plasma cycling consists of a single batch or is too small. Skip.\n",
      "Adding diffusion to step 4\n",
      "Adding diffusion to step 5\n",
      "Adding diffusion to step 6\n"
     ]
    },
    {
     "name": "stderr",
     "output_type": "stream",
     "text": [
      "/home/kostas/miniconda3/envs/scrna/lib/python3.9/site-packages/rpy2/robjects/pandas2ri.py:368: DeprecationWarning: The global conversion available with activate() is deprecated and will be removed in the next major release. Use a local converter.\n",
      "  warnings.warn('The global conversion available with activate() '\n",
      "/home/kostas/miniconda3/envs/scrna/lib/python3.9/site-packages/rpy2/robjects/numpy2ri.py:241: DeprecationWarning: The global conversion available with activate() is deprecated and will be removed in the next major release. Use a local converter.\n",
      "  warnings.warn('The global conversion available with activate() '\n"
     ]
    },
    {
     "name": "stdout",
     "output_type": "stream",
     "text": [
      "NA consists of a single batch or is too small. Skip.\n",
      "Adding diffusion to step 4\n"
     ]
    },
    {
     "name": "stderr",
     "output_type": "stream",
     "text": [
      "/home/kostas/miniconda3/envs/scrna/lib/python3.9/site-packages/rpy2/robjects/pandas2ri.py:368: DeprecationWarning: The global conversion available with activate() is deprecated and will be removed in the next major release. Use a local converter.\n",
      "  warnings.warn('The global conversion available with activate() '\n",
      "/home/kostas/miniconda3/envs/scrna/lib/python3.9/site-packages/rpy2/robjects/numpy2ri.py:241: DeprecationWarning: The global conversion available with activate() is deprecated and will be removed in the next major release. Use a local converter.\n",
      "  warnings.warn('The global conversion available with activate() '\n"
     ]
    },
    {
     "name": "stdout",
     "output_type": "stream",
     "text": [
      "Mast consists of a single batch or is too small. Skip.\n",
      "Malignant consists of a single batch or is too small. Skip.\n",
      "Fibroblast consists of a single batch or is too small. Skip.\n",
      "Epithelial consists of a single batch or is too small. Skip.\n",
      "Adding diffusion to step 4\n",
      "Adding diffusion to step 5\n",
      "Adding diffusion to step 6\n"
     ]
    },
    {
     "name": "stderr",
     "output_type": "stream",
     "text": [
      "/home/kostas/miniconda3/envs/scrna/lib/python3.9/site-packages/rpy2/robjects/pandas2ri.py:368: DeprecationWarning: The global conversion available with activate() is deprecated and will be removed in the next major release. Use a local converter.\n",
      "  warnings.warn('The global conversion available with activate() '\n",
      "/home/kostas/miniconda3/envs/scrna/lib/python3.9/site-packages/rpy2/robjects/numpy2ri.py:241: DeprecationWarning: The global conversion available with activate() is deprecated and will be removed in the next major release. Use a local converter.\n",
      "  warnings.warn('The global conversion available with activate() '\n"
     ]
    },
    {
     "name": "stdout",
     "output_type": "stream",
     "text": [
      "cycling consists of a single batch or is too small. Skip.\n",
      "Plasma consists of a single batch or is too small. Skip.\n",
      "Macro cycling consists of a single batch or is too small. Skip.\n",
      "T cycling consists of a single batch or is too small. Skip.\n"
     ]
    },
    {
     "data": {
      "text/plain": [
       "0.2933593082067115"
      ]
     },
     "execution_count": 5,
     "metadata": {},
     "output_type": "execute_result"
    }
   ],
   "source": [
    "scib.me.kBET(adata_harmony_full, batch_key=\"batch\", label_key=\"cell_type\", type_=\"embed\", embed=\"X_pca_harmony\")"
   ]
  },
  {
   "cell_type": "markdown",
   "id": "3e1c9171",
   "metadata": {},
   "source": [
    "### Silhouette batch for concat data"
   ]
  },
  {
   "cell_type": "code",
   "execution_count": null,
   "id": "eac4e13d",
   "metadata": {},
   "outputs": [],
   "source": [
    "scib.me.silhouette_batch(adata_concat, batch_key=\"batch\", label_key=\"cell_type\", embed=\"X_pca\")"
   ]
  },
  {
   "cell_type": "markdown",
   "id": "48387f8e",
   "metadata": {},
   "source": [
    "### Silhouette batch for Scanorama data"
   ]
  },
  {
   "cell_type": "code",
   "execution_count": null,
   "id": "6cffcb4e",
   "metadata": {},
   "outputs": [],
   "source": [
    "scib.me.silhouette_batch(adata_scanorama_full, batch_key=\"batch\", label_key=\"cell_type\", embed=\"Scanorama\")"
   ]
  },
  {
   "cell_type": "markdown",
   "id": "5aa7f4a6",
   "metadata": {},
   "source": [
    "### Silhouette batch for Harmony data"
   ]
  },
  {
   "cell_type": "code",
   "execution_count": 6,
   "id": "4acfe292",
   "metadata": {},
   "outputs": [
    {
     "name": "stdout",
     "output_type": "stream",
     "text": [
      "mean silhouette per group:              silhouette_score\n",
      "group                        \n",
      "B                    0.673826\n",
      "DC                   0.863168\n",
      "Endothelial          0.640497\n",
      "Macrophage           0.722140\n",
      "Monocyte             0.738058\n",
      "NK                   0.665443\n",
      "T CD4                0.820394\n",
      "T CD8                0.822656\n"
     ]
    },
    {
     "data": {
      "text/plain": [
       "0.7432728340802324"
      ]
     },
     "execution_count": 6,
     "metadata": {},
     "output_type": "execute_result"
    }
   ],
   "source": [
    "scib.me.silhouette_batch(adata_harmony_full, batch_key=\"batch\", label_key=\"cell_type\", embed=\"X_pca_harmony\")"
   ]
  },
  {
   "cell_type": "code",
   "execution_count": null,
   "id": "011c583f",
   "metadata": {},
   "outputs": [],
   "source": []
  }
 ],
 "metadata": {
  "kernelspec": {
   "display_name": "Python 3 (ipykernel)",
   "language": "python",
   "name": "python3"
  },
  "language_info": {
   "codemirror_mode": {
    "name": "ipython",
    "version": 3
   },
   "file_extension": ".py",
   "mimetype": "text/x-python",
   "name": "python",
   "nbconvert_exporter": "python",
   "pygments_lexer": "ipython3",
   "version": "3.9.17"
  }
 },
 "nbformat": 4,
 "nbformat_minor": 5
}
