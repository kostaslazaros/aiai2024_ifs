{
 "cells": [
  {
   "cell_type": "markdown",
   "id": "4df8f2b3",
   "metadata": {},
   "source": [
    "### Perform data integration using BBKNN"
   ]
  },
  {
   "cell_type": "code",
   "execution_count": null,
   "id": "54bd911e",
   "metadata": {},
   "outputs": [],
   "source": [
    "import scanpy as sc\n",
    "import hdf5plugin\n",
    "import matplotlib.pyplot as plt\n",
    "from matplotlib.pyplot import rc_context\n",
    "import scanpy.external as sce\n",
    "import numpy as np\n",
    "import os\n",
    "import warnings\n",
    "warnings.filterwarnings('ignore')"
   ]
  },
  {
   "cell_type": "code",
   "execution_count": null,
   "id": "be5ba1bf",
   "metadata": {},
   "outputs": [],
   "source": [
    "## 8687 genes\n",
    "H5AD = \"./data/4_concatenated_h5ad/lung_cancer_concat_data_v3.h5ad\"\n",
    "\n",
    "# H5AD_INTEGRATED = \"./data/6_integrated_h5ads/lung_cancer_bbknn_all_genes.h5ad\"\n",
    "\n",
    "H5AD_INTEGRATED = \"./data/6_integrated_h5ads/lung_cancer_bbknn_3000_hvgs.h5ad\"\n",
    "\n",
    "# H5AD_INTEGRATED = \"./data/6_integrated_h5ads/lung_cancer_bbknn_top_500_mlc_genes.h5ad\""
   ]
  },
  {
   "cell_type": "code",
   "execution_count": null,
   "id": "158421cf",
   "metadata": {},
   "outputs": [],
   "source": [
    "IMPORTANT_GENES = \"./data/5_csv_dataframes/ctype_condition_multilabel_features_v3.csv\""
   ]
  },
  {
   "cell_type": "code",
   "execution_count": null,
   "id": "84e5a37c",
   "metadata": {},
   "outputs": [],
   "source": [
    "def data_preprocessor(adata):\n",
    "    sc.pp.normalize_total(adata, target_sum=1e4)\n",
    "    sc.pp.log1p(adata)\n",
    "    sc.pp.highly_variable_genes(adata, n_top_genes=3000, subset=True)\n",
    "    adata.raw = adata\n",
    "    sc.pp.scale(adata, max_value=10)\n",
    "    sc.pp.pca(adata)\n",
    "    return adata"
   ]
  },
  {
   "cell_type": "code",
   "execution_count": null,
   "id": "a4513ce1",
   "metadata": {},
   "outputs": [],
   "source": [
    "# imp_genes_df = pd.read_csv(IMPORTANT_GENES)\n",
    "# top500_df = pd.DataFrame(imp_genes_df.loc[:499, 'feature'])\n",
    "# top500_gene_list = top500_df['feature'].tolist()\n",
    "# top500_gene_list"
   ]
  },
  {
   "cell_type": "code",
   "execution_count": null,
   "id": "b9ba2adf",
   "metadata": {},
   "outputs": [],
   "source": [
    "adata_merged = sc.read_h5ad(H5AD)\n",
    "adata_merged"
   ]
  },
  {
   "cell_type": "code",
   "execution_count": null,
   "id": "e8037f5b",
   "metadata": {},
   "outputs": [],
   "source": [
    "# adata_merged = adata_merged[:, adata_merged.var_names.isin(top500_gene_list)]\n",
    "\n",
    "adata_merged = data_preprocessor(adata_merged)\n",
    "adata_merged"
   ]
  },
  {
   "cell_type": "code",
   "execution_count": null,
   "id": "c5da8033",
   "metadata": {},
   "outputs": [],
   "source": [
    "sc.external.pp.bbknn(adata_merged, batch_key='batch')"
   ]
  },
  {
   "cell_type": "code",
   "execution_count": null,
   "id": "dbec4a8a",
   "metadata": {},
   "outputs": [],
   "source": [
    "sc.tl.umap(adata_merged)"
   ]
  },
  {
   "cell_type": "code",
   "execution_count": null,
   "id": "5b734426",
   "metadata": {},
   "outputs": [],
   "source": [
    "sc.pl.umap(adata_merged, color=\"batch\", legend_fontsize=12, legend_fontoutline=2, \n",
    "           title='', show=False)\n",
    "\n",
    "# sc.pl.umap(adata, color='batch', add_outline=True,\n",
    "#                legend_fontsize=12, legend_fontoutline=2,frameon=True,\n",
    "#                title='', palette='Set1', show=False)\n",
    "\n",
    "plt.savefig('./umap_batches_bbknn_all_genes.png', dpi=600, bbox_inches='tight')"
   ]
  },
  {
   "cell_type": "code",
   "execution_count": null,
   "id": "18c73765",
   "metadata": {},
   "outputs": [],
   "source": [
    "sc.pl.umap(adata_merged, color=\"cell_type\", legend_fontsize=12, legend_fontoutline=2, \n",
    "           title='', show=False)\n",
    "\n",
    "# sc.pl.umap(adata, color='cell_type', add_outline=True,\n",
    "#                legend_fontsize=12, legend_fontoutline=2,frameon=True,\n",
    "#                title='', palette='tab20', show=False)\n",
    "\n",
    "plt.savefig('./umap_cell_type_bbknn_all_genes.png', dpi=600, bbox_inches='tight')"
   ]
  },
  {
   "cell_type": "code",
   "execution_count": null,
   "id": "7e2282bb",
   "metadata": {},
   "outputs": [],
   "source": [
    "sc.pl.umap(adata_merged, color=\"tissue\", legend_fontsize=12, legend_fontoutline=2, \n",
    "           title='', show=False)\n",
    "\n",
    "# sc.pl.umap(adata, color='tissue', add_outline=True,\n",
    "#                legend_fontsize=12, legend_fontoutline=2,frameon=True,\n",
    "#                title='', palette='viridis', show=False)\n",
    "\n",
    "plt.savefig('./umap_conditions_bbknn_all_genes.png', dpi=600, bbox_inches='tight')"
   ]
  },
  {
   "cell_type": "code",
   "execution_count": null,
   "id": "70b67a57",
   "metadata": {},
   "outputs": [],
   "source": [
    "adata_merged.write_h5ad(\n",
    "    H5AD_INTEGRATED,\n",
    "    compression=hdf5plugin.FILTERS[\"zstd\"],\n",
    "    compression_opts=hdf5plugin.Zstd(clevel=5).filter_options\n",
    "                         )"
   ]
  },
  {
   "cell_type": "code",
   "execution_count": null,
   "id": "480cef95",
   "metadata": {},
   "outputs": [],
   "source": []
  }
 ],
 "metadata": {
  "kernelspec": {
   "display_name": "Python 3 (ipykernel)",
   "language": "python",
   "name": "python3"
  },
  "language_info": {
   "codemirror_mode": {
    "name": "ipython",
    "version": 3
   },
   "file_extension": ".py",
   "mimetype": "text/x-python",
   "name": "python",
   "nbconvert_exporter": "python",
   "pygments_lexer": "ipython3",
   "version": "3.9.17"
  }
 },
 "nbformat": 4,
 "nbformat_minor": 5
}
