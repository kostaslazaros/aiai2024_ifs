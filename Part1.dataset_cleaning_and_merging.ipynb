{
 "cells": [
  {
   "cell_type": "markdown",
   "id": "72c62fc1",
   "metadata": {},
   "source": [
    "### Dataset cleaning and merging"
   ]
  },
  {
   "cell_type": "markdown",
   "id": "e8758db1",
   "metadata": {},
   "source": [
    "#### 1) In this step the 3 lung cancer datasets are stripped off of both common and non-common elements.\n",
    "#### 2) This is done in an effort to preserve space and to omit having NaN values due to non-common elements.\n",
    "#### 3) Subsequently the 3 datasets are concatenated into a single anndata object and the tissue values are replaced (see dictionary below for details)."
   ]
  },
  {
   "cell_type": "code",
   "execution_count": 1,
   "id": "9722badc",
   "metadata": {},
   "outputs": [],
   "source": [
    "import scanpy as sc\n",
    "import anndata as ad\n",
    "import pandas as pd\n",
    "import hdf5plugin"
   ]
  },
  {
   "cell_type": "markdown",
   "id": "94c51502",
   "metadata": {},
   "source": [
    "### Parameters"
   ]
  },
  {
   "cell_type": "code",
   "execution_count": 2,
   "id": "10461050",
   "metadata": {},
   "outputs": [],
   "source": [
    "# nsclc_tissue_dic = {\n",
    "#     \"tumor\": \"cancer\",\n",
    "#     \"blood\": \"normal\",\n",
    "#     \"adjacent normal\": \"normal\",\n",
    "# }\n",
    "\n",
    "\n",
    "# luad_gse131907_tissue_dic = {\n",
    "#     \"tLung\": \"cancer\",\n",
    "#     \"nLung\": \"cancer\",\n",
    "#     \"nLN\": \"cancer\",\n",
    "#     \"mBrain\": \"cancer\",\n",
    "#     \"mLN\": \"cancer\",\n",
    "#     \"PE\": \"cancer\",\n",
    "#     \"tL/B\": \"cancer\",\n",
    "# }\n",
    "\n",
    "\n",
    "# luad_gse123902_tissue_dic = {\n",
    "#     'PRIMARY': \"cancer\",\n",
    "#     'NORMAL': \"normal\",\n",
    "#     'METASTASIS': \"cancer\",\n",
    "# }\n",
    "\n",
    "\n",
    "luad_gse97168_tissue_dic = {\n",
    "    'normal': \"normal\",\n",
    "    'tumor': \"cancer\",\n",
    "}"
   ]
  },
  {
   "cell_type": "markdown",
   "id": "84f6b357",
   "metadata": {},
   "source": [
    "### Dataset paths"
   ]
  },
  {
   "cell_type": "code",
   "execution_count": 3,
   "id": "5f05cf46",
   "metadata": {},
   "outputs": [],
   "source": [
    "# DATA_PATH = \"./data/standalone_h5ads/NSCLC_T_SS2_GSE99254.h5ad\"\n",
    "\n",
    "# DATA_PATH = \"./data/standalone_h5ads/LUAD_UNB_10X_GSE131907.h5ad\"\n",
    "\n",
    "# DATA_PATH = \"./data/standalone_h5ads/LUAD_UNB_10X_GSE123902.h5ad\"\n",
    "\n",
    "DATA_PATH = \"./data/standalone_h5ads/LUAD_MYE_MRS_GSE97168.h5ad\""
   ]
  },
  {
   "cell_type": "markdown",
   "id": "712b8206",
   "metadata": {},
   "source": [
    "### Read & Sanitize adata object"
   ]
  },
  {
   "cell_type": "code",
   "execution_count": 4,
   "id": "7598818d",
   "metadata": {},
   "outputs": [
    {
     "data": {
      "text/plain": [
       "AnnData object with n_obs × n_vars = 1275 × 10523\n",
       "    obs: 'nCount_RNA', 'nFeature_RNA', 'Amp_batch_ID', 'well_coordinates', 'plate_ID', 'Pool_barcode', 'Cell_barcode', 'tissue', 'seurat_clusters', 'annotation_CHETAH', 'cell_ontology', 'cell_ontology_id', 'annotation_major', 'annotation_immune', 'annotation_minor'\n",
       "    var: 'vst.mean', 'vst.variance', 'vst.variance.expected', 'vst.variance.standardized', 'vst.variable'\n",
       "    obsm: 'X_pca', 'X_tsne', 'X_umap'"
      ]
     },
     "execution_count": 4,
     "metadata": {},
     "output_type": "execute_result"
    }
   ],
   "source": [
    "adata = sc.read_h5ad(DATA_PATH)\n",
    "adata"
   ]
  },
  {
   "cell_type": "code",
   "execution_count": 5,
   "id": "62b48fc2",
   "metadata": {},
   "outputs": [],
   "source": [
    "# Step 1: Keep only specific columns in `.obs`\n",
    "# Replace 'column1', 'column2' with the names of the columns you want to keep\n",
    "adata.obs = adata.obs[['tissue', 'annotation_immune']]\n",
    "\n",
    "# Step 2: Remove all columns from `.var`\n",
    "# This retains the gene names/index but removes all associated annotations\n",
    "adata.var = pd.DataFrame(index=adata.var.index)\n",
    "\n",
    "# Step 3: Remove all items from `.obsm`\n",
    "adata.obsm = {}"
   ]
  },
  {
   "cell_type": "code",
   "execution_count": 6,
   "id": "f3fc32a2",
   "metadata": {},
   "outputs": [
    {
     "data": {
      "text/plain": [
       "tumor     804\n",
       "normal    471\n",
       "Name: tissue, dtype: int64"
      ]
     },
     "execution_count": 6,
     "metadata": {},
     "output_type": "execute_result"
    }
   ],
   "source": [
    "adata.obs[\"tissue\"].value_counts()"
   ]
  },
  {
   "cell_type": "code",
   "execution_count": 7,
   "id": "884e2243",
   "metadata": {},
   "outputs": [
    {
     "data": {
      "text/plain": [
       "cancer    804\n",
       "normal    471\n",
       "Name: tissue, dtype: int64"
      ]
     },
     "execution_count": 7,
     "metadata": {},
     "output_type": "execute_result"
    }
   ],
   "source": [
    "adata.obs.rename(columns = {'Tissue':'tissue'}, inplace = True)\n",
    "adata.obs['tissue'] = adata.obs['tissue'].replace(luad_gse97168_tissue_dic)\n",
    "\n",
    "adata.obs[\"tissue\"].value_counts()"
   ]
  },
  {
   "cell_type": "markdown",
   "id": "cfc5506c",
   "metadata": {},
   "source": [
    "### Write sanitized dataset to disk"
   ]
  },
  {
   "cell_type": "code",
   "execution_count": 8,
   "id": "5593f5dc",
   "metadata": {},
   "outputs": [],
   "source": [
    "adata.write_h5ad(\n",
    "    \"./data/sanitized_h5ads/luad_gse97168.h5ad\",\n",
    "    compression=hdf5plugin.FILTERS[\"zstd\"],\n",
    "    compression_opts=hdf5plugin.Zstd(clevel=5).filter_options\n",
    "                )"
   ]
  },
  {
   "cell_type": "code",
   "execution_count": null,
   "id": "f510ad95",
   "metadata": {},
   "outputs": [],
   "source": []
  }
 ],
 "metadata": {
  "kernelspec": {
   "display_name": "Python 3 (ipykernel)",
   "language": "python",
   "name": "python3"
  },
  "language_info": {
   "codemirror_mode": {
    "name": "ipython",
    "version": 3
   },
   "file_extension": ".py",
   "mimetype": "text/x-python",
   "name": "python",
   "nbconvert_exporter": "python",
   "pygments_lexer": "ipython3",
   "version": "3.9.17"
  }
 },
 "nbformat": 4,
 "nbformat_minor": 5
}
