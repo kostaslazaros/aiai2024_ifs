{
 "cells": [
  {
   "cell_type": "code",
   "execution_count": 1,
   "id": "f6887de2",
   "metadata": {},
   "outputs": [],
   "source": [
    "import scanpy as sc\n",
    "import hdf5plugin\n",
    "import anndata\n",
    "import matplotlib.pyplot as plt\n",
    "from matplotlib.pyplot import rc_context\n",
    "import numpy as np\n",
    "import pandas as pd\n",
    "import os\n",
    "\n",
    "import warnings\n",
    "warnings.filterwarnings(\"ignore\")"
   ]
  },
  {
   "cell_type": "code",
   "execution_count": 2,
   "id": "6134ddb5",
   "metadata": {},
   "outputs": [],
   "source": [
    "VERSION = \"3\""
   ]
  },
  {
   "cell_type": "code",
   "execution_count": 3,
   "id": "186f2177",
   "metadata": {},
   "outputs": [],
   "source": [
    "DATA_PATH = \"./data/2_sanitized_h5ads\""
   ]
  },
  {
   "cell_type": "code",
   "execution_count": 4,
   "id": "3d05040c",
   "metadata": {},
   "outputs": [],
   "source": [
    "def get_h5ads(directory):\n",
    "    h5ad_name_lst = []\n",
    "    for file in os.listdir(directory):\n",
    "        if file.endswith(\".h5ad\"):\n",
    "            # Construct the full file path\n",
    "            file_path = os.path.join(directory, file)\n",
    "            # Print the file name\n",
    "            h5ad_name_lst.append(file)\n",
    "    return h5ad_name_lst"
   ]
  },
  {
   "cell_type": "code",
   "execution_count": 5,
   "id": "44ff20f0",
   "metadata": {},
   "outputs": [
    {
     "data": {
      "text/plain": [
       "['luad_gse97168.h5ad', 'luad_gse123902.h5ad', 'nsclc_gse99254.h5ad']"
      ]
     },
     "execution_count": 5,
     "metadata": {},
     "output_type": "execute_result"
    }
   ],
   "source": [
    "adata_name_lst = get_h5ads(DATA_PATH)\n",
    "adata_name_lst"
   ]
  },
  {
   "cell_type": "code",
   "execution_count": 6,
   "id": "125e1149",
   "metadata": {},
   "outputs": [],
   "source": [
    "H5ADS = [f\"{DATA_PATH}/{i}\" for i in adata_name_lst]\n",
    "\n",
    "MERGED_NAME = \"lung_cancer_concat_data\"\n",
    "H5AD_CONCAT = f\"./data/4_concatenated_h5ad/{MERGED_NAME}_v{VERSION}.h5ad\""
   ]
  },
  {
   "cell_type": "code",
   "execution_count": 7,
   "id": "77dfa0a8",
   "metadata": {},
   "outputs": [
    {
     "data": {
      "text/plain": [
       "['./data/2_sanitized_h5ads/luad_gse97168.h5ad',\n",
       " './data/2_sanitized_h5ads/luad_gse123902.h5ad',\n",
       " './data/2_sanitized_h5ads/nsclc_gse99254.h5ad']"
      ]
     },
     "execution_count": 7,
     "metadata": {},
     "output_type": "execute_result"
    }
   ],
   "source": [
    "H5ADS"
   ]
  },
  {
   "cell_type": "code",
   "execution_count": 8,
   "id": "39ca5ce0",
   "metadata": {},
   "outputs": [
    {
     "data": {
      "text/plain": [
       "[AnnData object with n_obs × n_vars = 1275 × 10523\n",
       "     obs: 'tissue', 'annotation_immune',\n",
       " AnnData object with n_obs × n_vars = 31608 × 19544\n",
       "     obs: 'tissue', 'annotation_immune',\n",
       " AnnData object with n_obs × n_vars = 12345 × 21063\n",
       "     obs: 'tissue', 'annotation_immune']"
      ]
     },
     "execution_count": 8,
     "metadata": {},
     "output_type": "execute_result"
    }
   ],
   "source": [
    "adatas = [sc.read_h5ad(i) for i in H5ADS]\n",
    "adatas"
   ]
  },
  {
   "cell_type": "code",
   "execution_count": 9,
   "id": "0fb49216",
   "metadata": {},
   "outputs": [
    {
     "data": {
      "text/plain": [
       "AnnData object with n_obs × n_vars = 45228 × 8687\n",
       "    obs: 'tissue', 'cell_type', 'batch'"
      ]
     },
     "execution_count": 9,
     "metadata": {},
     "output_type": "execute_result"
    }
   ],
   "source": [
    "adata_merged = anndata.AnnData.concatenate(*adatas, batch_key='batch', join=\"inner\")\n",
    "adata_merged.obs.rename(columns={'annotation_immune': 'cell_type'}, inplace=True)\n",
    "adata_merged"
   ]
  },
  {
   "cell_type": "code",
   "execution_count": 10,
   "id": "33704fdb",
   "metadata": {},
   "outputs": [],
   "source": [
    "adata_merged.write_h5ad(\n",
    "    H5AD_CONCAT,\n",
    "    compression=hdf5plugin.FILTERS[\"zstd\"],\n",
    "    compression_opts=hdf5plugin.Zstd(clevel=5).filter_options\n",
    ")"
   ]
  },
  {
   "cell_type": "code",
   "execution_count": null,
   "id": "6640e927",
   "metadata": {},
   "outputs": [],
   "source": []
  },
  {
   "cell_type": "code",
   "execution_count": null,
   "id": "810d99ff",
   "metadata": {},
   "outputs": [],
   "source": []
  },
  {
   "cell_type": "code",
   "execution_count": null,
   "id": "65756d94",
   "metadata": {},
   "outputs": [],
   "source": []
  }
 ],
 "metadata": {
  "kernelspec": {
   "display_name": "Python 3 (ipykernel)",
   "language": "python",
   "name": "python3"
  },
  "language_info": {
   "codemirror_mode": {
    "name": "ipython",
    "version": 3
   },
   "file_extension": ".py",
   "mimetype": "text/x-python",
   "name": "python",
   "nbconvert_exporter": "python",
   "pygments_lexer": "ipython3",
   "version": "3.9.17"
  }
 },
 "nbformat": 4,
 "nbformat_minor": 5
}
