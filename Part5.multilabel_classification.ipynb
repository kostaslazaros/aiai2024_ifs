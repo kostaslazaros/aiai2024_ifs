{
 "cells": [
  {
   "cell_type": "code",
   "execution_count": null,
   "id": "b97a84b6",
   "metadata": {},
   "outputs": [],
   "source": [
    "from sklearn.ensemble import RandomForestClassifier\n",
    "from sklearn.multioutput import MultiOutputClassifier\n",
    "from sklearn.utils import shuffle\n",
    "import pandas as pd\n",
    "import numpy as np"
   ]
  },
  {
   "cell_type": "code",
   "execution_count": null,
   "id": "f70addb5",
   "metadata": {},
   "outputs": [],
   "source": [
    "# When loading, you'll get the DataFrame without the original index\n",
    "# df = pd.read_pickle(\"./data/5_csv_dataframes/lc_concatenated_df.pkl\")\n",
    "\n",
    "# df = pd.read_pickle(\"./data/5_csv_dataframes/lc_concatenated_df_v2.pkl\")\n",
    "\n",
    "df = pd.read_pickle(\"./data/5_csv_dataframes/lc_concatenated_df_v3.pkl\")\n",
    "df"
   ]
  },
  {
   "cell_type": "code",
   "execution_count": null,
   "id": "7e22cf7b",
   "metadata": {},
   "outputs": [],
   "source": [
    "df['cell_type_code'] = df['cell_type'].astype('category').cat.codes\n",
    "\n",
    "\n",
    "condition_mapping = {'normal': 0, 'cancer': 1}\n",
    "df['condition_code'] = df['tissue'].map(condition_mapping)\n",
    "\n",
    "df"
   ]
  },
  {
   "cell_type": "code",
   "execution_count": null,
   "id": "75af0ca6",
   "metadata": {},
   "outputs": [],
   "source": [
    "X = df.drop(['cell_type', 'tissue', 'cell_type_code', 'condition_code'], axis=1)\n",
    "y = df[['cell_type_code', 'condition_code']]"
   ]
  },
  {
   "cell_type": "code",
   "execution_count": null,
   "id": "9d3a8012",
   "metadata": {},
   "outputs": [],
   "source": [
    "X"
   ]
  },
  {
   "cell_type": "code",
   "execution_count": null,
   "id": "4dbadbd3",
   "metadata": {},
   "outputs": [],
   "source": [
    "rfc = RandomForestClassifier(n_estimators=100, random_state=42)"
   ]
  },
  {
   "cell_type": "code",
   "execution_count": null,
   "id": "6527092d",
   "metadata": {},
   "outputs": [],
   "source": [
    "multi_target_rfc = MultiOutputClassifier(rfc, n_jobs=-1)\n",
    "\n",
    "multi_target_rfc.fit(X, y)"
   ]
  },
  {
   "cell_type": "code",
   "execution_count": null,
   "id": "5d965f6e",
   "metadata": {},
   "outputs": [],
   "source": [
    "# Feature importance for each label\n",
    "importances = multi_target_rfc.estimators_[0].feature_importances_\n",
    "feature_names = X.columns\n",
    "importances"
   ]
  },
  {
   "cell_type": "code",
   "execution_count": null,
   "id": "78b2d692",
   "metadata": {},
   "outputs": [],
   "source": [
    "# Create a DataFrame for feature importances\n",
    "feature_importances = np.mean([tree.feature_importances_ for tree in multi_target_rfc.estimators_], axis=0)\n",
    "\n",
    "features_df = pd.DataFrame({\n",
    "    'feature': X.columns,\n",
    "    'importance': feature_importances\n",
    "})\n",
    "\n",
    "# Sort the DataFrame by importance\n",
    "features_df_sorted = features_df.sort_values(by='importance', ascending=False).reset_index(drop=True)\n",
    "\n",
    "features_df_sorted"
   ]
  },
  {
   "cell_type": "code",
   "execution_count": null,
   "id": "0f48e04e",
   "metadata": {},
   "outputs": [],
   "source": [
    "features_df_sorted.to_csv(\"./data/5_csv_dataframes/ctype_condition_multilabel_features_v3.csv\", index=False)"
   ]
  },
  {
   "cell_type": "code",
   "execution_count": null,
   "id": "a0971a9d",
   "metadata": {},
   "outputs": [],
   "source": []
  }
 ],
 "metadata": {
  "kernelspec": {
   "display_name": "Python 3 (ipykernel)",
   "language": "python",
   "name": "python3"
  },
  "language_info": {
   "codemirror_mode": {
    "name": "ipython",
    "version": 3
   },
   "file_extension": ".py",
   "mimetype": "text/x-python",
   "name": "python",
   "nbconvert_exporter": "python",
   "pygments_lexer": "ipython3",
   "version": "3.9.17"
  }
 },
 "nbformat": 4,
 "nbformat_minor": 5
}
